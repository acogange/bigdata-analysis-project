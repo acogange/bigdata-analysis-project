{
 "cells": [
  {
   "cell_type": "markdown",
   "metadata": {
    "id": "mTt7qGUTCcFs"
   },
   "source": [
    "# 과제2. [평가]Mobile 고객 이탈 분석"
   ]
  },
  {
   "cell_type": "markdown",
   "metadata": {
    "id": "cdQaCT5I0IL_"
   },
   "source": [
    "* 여러분은 OO 통신화사 데이터분석가 입니다.\n",
    "* 회사는 약정기간이 끝난 고객이 번호이동(이탈)해 가는 문제를 해결하고자 합니다.\n",
    "* 그래서 여러분에게, 어떤 고객이 번호이동(이탈)해 가는지 데이터분석을 의뢰하였습니다.\n",
    "* 고객 이탈여부(CHURN)에 영향을 주는 요인을 찾아 봅시다."
   ]
  },
  {
   "cell_type": "markdown",
   "metadata": {
    "id": "0wuYJKZHjA3d"
   },
   "source": [
    "![](https://d18lkz4dllo6v2.cloudfront.net/cumulus_uploads/entry/23964/mobile%20phones.png)"
   ]
  },
  {
   "cell_type": "markdown",
   "metadata": {
    "id": "AHmt88Q5EVsj"
   },
   "source": [
    "## 0.환경설정"
   ]
  },
  {
   "cell_type": "markdown",
   "metadata": {
    "id": "KnzVh2LmkLDU"
   },
   "source": [
    "### 1) 라이브러리 로딩"
   ]
  },
  {
   "cell_type": "code",
   "execution_count": 1,
   "metadata": {
    "id": "3rsQerEaELwI"
   },
   "outputs": [],
   "source": [
    "import pandas as pd\n",
    "import numpy as np\n",
    "import matplotlib.pyplot as plt\n",
    "import seaborn as sns\n",
    "\n",
    "from statsmodels.graphics.mosaicplot import mosaic\n",
    "from scipy import stats as spst\n",
    "import statsmodels.api as sm"
   ]
  },
  {
   "cell_type": "markdown",
   "metadata": {
    "id": "5Qh5KYWokO_N"
   },
   "source": [
    "### 2) 데이터 로딩"
   ]
  },
  {
   "cell_type": "code",
   "execution_count": 4,
   "metadata": {
    "id": "lM3HN6OwEL3d"
   },
   "outputs": [
    {
     "data": {
      "text/html": [
       "<div>\n",
       "<style scoped>\n",
       "    .dataframe tbody tr th:only-of-type {\n",
       "        vertical-align: middle;\n",
       "    }\n",
       "\n",
       "    .dataframe tbody tr th {\n",
       "        vertical-align: top;\n",
       "    }\n",
       "\n",
       "    .dataframe thead th {\n",
       "        text-align: right;\n",
       "    }\n",
       "</style>\n",
       "<table border=\"1\" class=\"dataframe\">\n",
       "  <thead>\n",
       "    <tr style=\"text-align: right;\">\n",
       "      <th></th>\n",
       "      <th>COLLEGE</th>\n",
       "      <th>INCOME</th>\n",
       "      <th>OVERAGE</th>\n",
       "      <th>LEFTOVER</th>\n",
       "      <th>HOUSE</th>\n",
       "      <th>HANDSET_PRICE</th>\n",
       "      <th>AVERAGE_CALL_DURATION</th>\n",
       "      <th>REPORTED_SATISFACTION</th>\n",
       "      <th>CONSIDERING_CHANGE_OF_PLAN</th>\n",
       "      <th>CHURN</th>\n",
       "    </tr>\n",
       "  </thead>\n",
       "  <tbody>\n",
       "    <tr>\n",
       "      <th>0</th>\n",
       "      <td>1</td>\n",
       "      <td>47711</td>\n",
       "      <td>183</td>\n",
       "      <td>17</td>\n",
       "      <td>730589.0</td>\n",
       "      <td>192</td>\n",
       "      <td>5</td>\n",
       "      <td>unsat</td>\n",
       "      <td>considering</td>\n",
       "      <td>0</td>\n",
       "    </tr>\n",
       "    <tr>\n",
       "      <th>1</th>\n",
       "      <td>0</td>\n",
       "      <td>74132</td>\n",
       "      <td>191</td>\n",
       "      <td>43</td>\n",
       "      <td>535092.0</td>\n",
       "      <td>349</td>\n",
       "      <td>2</td>\n",
       "      <td>unsat</td>\n",
       "      <td>no</td>\n",
       "      <td>1</td>\n",
       "    </tr>\n",
       "    <tr>\n",
       "      <th>2</th>\n",
       "      <td>1</td>\n",
       "      <td>150419</td>\n",
       "      <td>0</td>\n",
       "      <td>14</td>\n",
       "      <td>204004.0</td>\n",
       "      <td>682</td>\n",
       "      <td>6</td>\n",
       "      <td>unsat</td>\n",
       "      <td>considering</td>\n",
       "      <td>0</td>\n",
       "    </tr>\n",
       "    <tr>\n",
       "      <th>3</th>\n",
       "      <td>0</td>\n",
       "      <td>159567</td>\n",
       "      <td>0</td>\n",
       "      <td>58</td>\n",
       "      <td>281969.0</td>\n",
       "      <td>634</td>\n",
       "      <td>1</td>\n",
       "      <td>very_unsat</td>\n",
       "      <td>never_thought</td>\n",
       "      <td>0</td>\n",
       "    </tr>\n",
       "    <tr>\n",
       "      <th>4</th>\n",
       "      <td>1</td>\n",
       "      <td>23392</td>\n",
       "      <td>0</td>\n",
       "      <td>0</td>\n",
       "      <td>216707.0</td>\n",
       "      <td>233</td>\n",
       "      <td>15</td>\n",
       "      <td>unsat</td>\n",
       "      <td>no</td>\n",
       "      <td>1</td>\n",
       "    </tr>\n",
       "  </tbody>\n",
       "</table>\n",
       "</div>"
      ],
      "text/plain": [
       "   COLLEGE  INCOME  OVERAGE  LEFTOVER     HOUSE  HANDSET_PRICE  \\\n",
       "0        1   47711      183        17  730589.0            192   \n",
       "1        0   74132      191        43  535092.0            349   \n",
       "2        1  150419        0        14  204004.0            682   \n",
       "3        0  159567        0        58  281969.0            634   \n",
       "4        1   23392        0         0  216707.0            233   \n",
       "\n",
       "   AVERAGE_CALL_DURATION REPORTED_SATISFACTION CONSIDERING_CHANGE_OF_PLAN  \\\n",
       "0                      5                 unsat                considering   \n",
       "1                      2                 unsat                         no   \n",
       "2                      6                 unsat                considering   \n",
       "3                      1            very_unsat              never_thought   \n",
       "4                     15                 unsat                         no   \n",
       "\n",
       "   CHURN  \n",
       "0      0  \n",
       "1      1  \n",
       "2      0  \n",
       "3      0  \n",
       "4      1  "
      ]
     },
     "execution_count": 4,
     "metadata": {},
     "output_type": "execute_result"
    }
   ],
   "source": [
    "# mobile data\n",
    "data_path = \"https://raw.githubusercontent.com/DA4BAM/dataset/master/mobile_NA2.csv\"\n",
    "data = pd.read_csv(data_path)\n",
    "data.drop(['id', 'REPORTED_USAGE_LEVEL','OVER_15MINS_CALLS_PER_MONTH'], axis = 1, inplace = True)\n",
    "data.head()"
   ]
  },
  {
   "cell_type": "markdown",
   "metadata": {
    "id": "JtiF310fjmJy"
   },
   "source": [
    "|변수 명|내용|구분|\n",
    "|\t----\t|\t----\t|\t----\t|\n",
    "|\tCOLLEGE\t|\t대학졸업 여부(1,0)\t|\t\t|\n",
    "|\tINCOME\t|\t연 수입액(달러)\t|\t\t|\n",
    "|\tOVERAGE\t|\t월 초과사용 시간(분)\t|\t\t|\n",
    "|\tLEFTOVER\t|\t월 사용 잔여시간(분)\t|\t\t|\n",
    "|\tHOUSE\t|\t집 가격(달러)\t|\t\t|\n",
    "|\tHANDSET_PRICE\t|\t핸드폰 가격(달러)\t|\t\t|\n",
    "|\tAVERAGE_CALL_DURATION\t|\t평균 통화시간(분)\t|\t\t|\n",
    "|\tREPORTED_SATISFACTION\t|\t만족도 설문('very_unsat', 'unsat', 'avg', 'sat', 'very_sat' )\t|\t\t|\n",
    "|\tCONSIDERING_CHANGE_OF_PLAN\t|\t변경 계획 설문('never_thought', 'no', 'perhaps', 'considering',   'actively_looking_into_it')\t|\t\t|\n",
    "|\t**CHURN**\t|\t이탈여부(1 : 이탈, 0 : 잔류)\t|\tLabel\t|\n"
   ]
  },
  {
   "cell_type": "markdown",
   "metadata": {
    "id": "bKimk8qVm8oC"
   },
   "source": [
    "----"
   ]
  },
  {
   "cell_type": "markdown",
   "metadata": {
    "id": "0bouXLxGkSSd"
   },
   "source": [
    "## 1.가설수립"
   ]
  },
  {
   "cell_type": "markdown",
   "metadata": {
    "id": "69Q5jPGu1JQ0"
   },
   "source": [
    "* 숫자형 최소 3개이상, 범주형 최소 2개 이상씩, 전체 6개의 변수를 도출, 가설을 수립하시오."
   ]
  },
  {
   "cell_type": "markdown",
   "metadata": {
    "id": "ydh7lwR6EHuL"
   },
   "source": [
    "* 가설1 : INCOME은 이탈에 영향을 미칠것이다,"
   ]
  },
  {
   "cell_type": "markdown",
   "metadata": {
    "id": "haK-v6pXEHuL"
   },
   "source": [
    "* 가설2 : 월 사용 잔여 시간은 이탈에 영향을 미칠것이다."
   ]
  },
  {
   "cell_type": "markdown",
   "metadata": {
    "id": "bXpNRpDcEHuL"
   },
   "source": [
    "* 가설3 : 월 초과 사용 시간은 이탈에 영향을 미칠것이다."
   ]
  },
  {
   "cell_type": "markdown",
   "metadata": {
    "id": "zvZmmfXOEHuL"
   },
   "source": [
    "* 가설4 : 만족도 설문은 이탈에 영향을 미칠것이다."
   ]
  },
  {
   "cell_type": "markdown",
   "metadata": {
    "id": "b0LB5ArmEHuM"
   },
   "source": [
    "* 가설5 : 변경계획 설문은 이탈에 영향을 미칠것이다."
   ]
  },
  {
   "cell_type": "markdown",
   "metadata": {
    "id": "3kIuQfdJ_i0L"
   },
   "source": [
    "* 가설6 : 대학졸업여부는 연 수입액에 영향을 미칠것이다."
   ]
  },
  {
   "cell_type": "markdown",
   "metadata": {},
   "source": [
    "* 가설7 : 변경계획과 만족도에 따른 이탈 영향이 있을것이다."
   ]
  },
  {
   "cell_type": "markdown",
   "metadata": {
    "id": "82xzJIZhnAaX"
   },
   "source": [
    "----"
   ]
  },
  {
   "cell_type": "markdown",
   "metadata": {
    "id": "1hYPpnplEedX"
   },
   "source": [
    "## 2.단변량 분석\n",
    "\n",
    "① 변수의 비즈니스 의미  \n",
    "\n",
    "② 숫자? 범주?  \n",
    "\n",
    "③ 전처리 사항\n",
    "   - NaN 존재 여부 및 조치 방안  \n",
    "   - 가변수화 대상여부  \n",
    "   \n",
    "④ 기초통계량\n",
    "\n",
    "⑤ 분포  \n",
    "\n",
    "⑥ 위 정보로부터 파악한 내용(비즈니스!) 정리  \n",
    "\n",
    "⑦ 추가 분석해볼 사항 도출"
   ]
  },
  {
   "cell_type": "markdown",
   "metadata": {
    "id": "BP8iBi7We3AI"
   },
   "source": [
    "### 1) feature1"
   ]
  },
  {
   "cell_type": "code",
   "execution_count": 68,
   "metadata": {
    "id": "NRIsridhK3el"
   },
   "outputs": [
    {
     "name": "stdout",
     "output_type": "stream",
     "text": [
      "count     18000.000000\n",
      "mean      80314.400278\n",
      "std       41703.420130\n",
      "min       20007.000000\n",
      "25%       42151.500000\n",
      "50%       75501.500000\n",
      "75%      116082.250000\n",
      "max      159983.000000\n",
      "Name: INCOME, dtype: float64\n"
     ]
    }
   ],
   "source": [
    "print(data['INCOME'].describe())"
   ]
  },
  {
   "cell_type": "code",
   "execution_count": 65,
   "metadata": {
    "id": "LdfsedUEEMP6"
   },
   "outputs": [
    {
     "name": "stderr",
     "output_type": "stream",
     "text": [
      "C:\\Users\\User\\anaconda3\\lib\\site-packages\\seaborn\\_decorators.py:36: FutureWarning: Pass the following variable as a keyword arg: x. From version 0.12, the only valid positional argument will be `data`, and passing other arguments without an explicit keyword will result in an error or misinterpretation.\n",
      "  warnings.warn(\n"
     ]
    },
    {
     "data": {
      "image/png": "[encoded data removed]",
      "text/plain": [
       "<Figure size 432x576 with 3 Axes>"
      ]
     },
     "metadata": {
      "needs_background": "light"
     },
     "output_type": "display_data"
    }
   ],
   "source": [
    "plt.figure(figsize = (6,8))\n",
    "plt.subplot(3,1,1)\n",
    "sns.histplot(data['INCOME'], bins = 20)\n",
    "\n",
    "plt.subplot(3,1,2)\n",
    "sns.kdeplot(data['INCOME'])\n",
    "\n",
    "plt.subplot(3,1,3)\n",
    "sns.boxplot(data['INCOME'])\n",
    "\n",
    "plt.tight_layout()\n",
    "plt.show()"
   ]
  },
  {
   "cell_type": "markdown",
   "metadata": {
    "id": "n53LBx0fEMMs"
   },
   "source": [
    "수입은 ( 20000-50000 ) ( 50000-110000 ) ( 110000-160000 ) 구간으로 구분이 된다.\n",
    "( 20000-50000 )인 사람이 많았고 평균은 80000정도이다.\n",
    "각 수입별 핸드폰 가격, 집가격, 대학 졸업 여부 분석해볼수있다.\n"
   ]
  },
  {
   "cell_type": "code",
   "execution_count": null,
   "metadata": {
    "id": "M-dKqpwTEMJe"
   },
   "outputs": [],
   "source": []
  },
  {
   "cell_type": "code",
   "execution_count": null,
   "metadata": {
    "id": "-67MJSNHEMF6"
   },
   "outputs": [],
   "source": []
  },
  {
   "cell_type": "markdown",
   "metadata": {
    "id": "cYkgwG47evaF"
   },
   "source": [
    "### 2) feature2"
   ]
  },
  {
   "cell_type": "code",
   "execution_count": 60,
   "metadata": {
    "id": "bUzXvik-Ka88"
   },
   "outputs": [
    {
     "data": {
      "text/plain": [
       "count    18000.000000\n",
       "mean        86.014833\n",
       "std         85.963981\n",
       "min         -2.000000\n",
       "25%          0.000000\n",
       "50%         59.000000\n",
       "75%        179.000000\n",
       "max        335.000000\n",
       "Name: OVERAGE, dtype: float64"
      ]
     },
     "execution_count": 60,
     "metadata": {},
     "output_type": "execute_result"
    }
   ],
   "source": [
    "data['OVERAGE'].describe()"
   ]
  },
  {
   "cell_type": "code",
   "execution_count": 62,
   "metadata": {
    "id": "-wJGhdutEPTS"
   },
   "outputs": [
    {
     "name": "stderr",
     "output_type": "stream",
     "text": [
      "C:\\Users\\User\\anaconda3\\lib\\site-packages\\seaborn\\_decorators.py:36: FutureWarning: Pass the following variable as a keyword arg: x. From version 0.12, the only valid positional argument will be `data`, and passing other arguments without an explicit keyword will result in an error or misinterpretation.\n",
      "  warnings.warn(\n"
     ]
    },
    {
     "data": {
      "image/png": "[encoded data removed]",
      "text/plain": [
       "<Figure size 432x576 with 3 Axes>"
      ]
     },
     "metadata": {
      "needs_background": "light"
     },
     "output_type": "display_data"
    }
   ],
   "source": [
    "plt.figure(figsize = (6,8))\n",
    "plt.subplot(3,1,1)\n",
    "sns.histplot(data['OVERAGE'], bins = 16)\n",
    "\n",
    "plt.subplot(3,1,2)\n",
    "sns.kdeplot(data['OVERAGE'])\n",
    "\n",
    "plt.subplot(3,1,3)\n",
    "sns.boxplot(data['OVERAGE'])\n",
    "\n",
    "plt.tight_layout()\n",
    "plt.show()"
   ]
  },
  {
   "cell_type": "code",
   "execution_count": null,
   "metadata": {
    "id": "_aotNSmkEPQR"
   },
   "outputs": [],
   "source": [
    "월 초과시간이 0분에서 25분정도가 가장 많고, 50분에서 75분정도 , 150분에서 250분 전으로 \n",
    "초과시간이 많다. \n"
   ]
  },
  {
   "cell_type": "code",
   "execution_count": null,
   "metadata": {
    "id": "IURgySMwEPNJ"
   },
   "outputs": [],
   "source": []
  },
  {
   "cell_type": "code",
   "execution_count": null,
   "metadata": {
    "id": "wSHuLg0GEPJ0"
   },
   "outputs": [],
   "source": []
  },
  {
   "cell_type": "markdown",
   "metadata": {
    "id": "UNgJNBEIfB1p"
   },
   "source": [
    "### 3) feature3"
   ]
  },
  {
   "cell_type": "code",
   "execution_count": 70,
   "metadata": {
    "id": "7FsVbJ_mKi15"
   },
   "outputs": [
    {
     "data": {
      "text/plain": [
       "count    18000.000000\n",
       "mean        23.995500\n",
       "std         26.860363\n",
       "min          0.000000\n",
       "25%          0.000000\n",
       "50%         14.500000\n",
       "75%         42.000000\n",
       "max         89.000000\n",
       "Name: LEFTOVER, dtype: float64"
      ]
     },
     "execution_count": 70,
     "metadata": {},
     "output_type": "execute_result"
    }
   ],
   "source": [
    "data['LEFTOVER'].describe()"
   ]
  },
  {
   "cell_type": "code",
   "execution_count": 69,
   "metadata": {
    "id": "5bpbg_e7ERk3"
   },
   "outputs": [
    {
     "name": "stderr",
     "output_type": "stream",
     "text": [
      "C:\\Users\\User\\anaconda3\\lib\\site-packages\\seaborn\\_decorators.py:36: FutureWarning: Pass the following variable as a keyword arg: x. From version 0.12, the only valid positional argument will be `data`, and passing other arguments without an explicit keyword will result in an error or misinterpretation.\n",
      "  warnings.warn(\n"
     ]
    },
    {
     "data": {
      "image/png": "[encoded data removed]",
      "text/plain": [
       "<Figure size 432x576 with 3 Axes>"
      ]
     },
     "metadata": {
      "needs_background": "light"
     },
     "output_type": "display_data"
    }
   ],
   "source": [
    "plt.figure(figsize = (6,8))\n",
    "plt.subplot(3,1,1)\n",
    "sns.histplot(data['LEFTOVER'], bins = 20)\n",
    "\n",
    "plt.subplot(3,1,2)\n",
    "sns.kdeplot(data['LEFTOVER'])\n",
    "\n",
    "plt.subplot(3,1,3)\n",
    "sns.boxplot(data['LEFTOVER'])\n",
    "\n",
    "plt.tight_layout()\n",
    "plt.show()"
   ]
  },
  {
   "cell_type": "markdown",
   "metadata": {
    "id": "QYb8bCyrERh_"
   },
   "source": [
    "월 잔여 시간은 0분에서 5분정도가 가장 많다.\n",
    "이후 5분에서 20분/ 20분 이상으로 구간을 나눌수있다.\n",
    "월 초과하는 사람의 이탈율이 클지 월 잔여 시간이 남는 사람이 이탈율이 클지 고려 필요"
   ]
  },
  {
   "cell_type": "markdown",
   "metadata": {
    "id": "e3QPEq8efB1r"
   },
   "source": [
    "### 4) feature4"
   ]
  },
  {
   "cell_type": "code",
   "execution_count": 72,
   "metadata": {
    "id": "H4Oa5BnzKme9"
   },
   "outputs": [
    {
     "data": {
      "text/plain": [
       "count    18000.000000\n",
       "mean       390.096667\n",
       "std        214.239639\n",
       "min        130.000000\n",
       "25%        219.000000\n",
       "50%        326.000000\n",
       "75%        536.000000\n",
       "max        899.000000\n",
       "Name: HANDSET_PRICE, dtype: float64"
      ]
     },
     "execution_count": 72,
     "metadata": {},
     "output_type": "execute_result"
    }
   ],
   "source": [
    "data['HANDSET_PRICE'].describe()"
   ]
  },
  {
   "cell_type": "code",
   "execution_count": 77,
   "metadata": {
    "id": "r6Aiu2rkEUc-"
   },
   "outputs": [
    {
     "name": "stderr",
     "output_type": "stream",
     "text": [
      "C:\\Users\\User\\anaconda3\\lib\\site-packages\\seaborn\\_decorators.py:36: FutureWarning: Pass the following variable as a keyword arg: x. From version 0.12, the only valid positional argument will be `data`, and passing other arguments without an explicit keyword will result in an error or misinterpretation.\n",
      "  warnings.warn(\n"
     ]
    },
    {
     "data": {
      "image/png": "[encoded data removed]",
      "text/plain": [
       "<Figure size 432x576 with 3 Axes>"
      ]
     },
     "metadata": {
      "needs_background": "light"
     },
     "output_type": "display_data"
    }
   ],
   "source": [
    "plt.figure(figsize = (6,8))\n",
    "plt.subplot(3,1,1)\n",
    "sns.histplot(data['HANDSET_PRICE'], bins = 15)\n",
    "\n",
    "plt.subplot(3,1,2)\n",
    "sns.kdeplot(data['HANDSET_PRICE'])\n",
    "\n",
    "plt.subplot(3,1,3)\n",
    "sns.boxplot(data['HANDSET_PRICE'])\n",
    "\n",
    "plt.tight_layout()\n",
    "plt.show()"
   ]
  },
  {
   "cell_type": "markdown",
   "metadata": {
    "id": "Z8XzJMuFEUZp"
   },
   "source": [
    "200달러 미만에서 200달러 초반이 가격이 제일 빈도가 높고\n",
    "200달러 중반에서 400달러 미만이 그 다음\n",
    "400달러부터 900달러의 빈도가 비슷하다.\n",
    "세 범주로 나눌 수 있는데 각 핸드폰 기종에 따라 나뉘지 않을까 생각이 든다.\n",
    "각 핸드폰 구매마다 사용 고객의 나이에서 차이가 있을것같고, 연 수입액에 따라 가격이 다를지 고려해볼만하다."
   ]
  },
  {
   "cell_type": "markdown",
   "metadata": {
    "id": "E5rB6CiofI_d"
   },
   "source": [
    "### 5) feature5"
   ]
  },
  {
   "cell_type": "code",
   "execution_count": 84,
   "metadata": {
    "id": "BoOX0VRsKped"
   },
   "outputs": [
    {
     "name": "stdout",
     "output_type": "stream",
     "text": [
      "0\n"
     ]
    }
   ],
   "source": [
    "print(data['HOUSE'].isnull().sum())"
   ]
  },
  {
   "cell_type": "code",
   "execution_count": 85,
   "metadata": {
    "id": "UbgPbP4YEWp0"
   },
   "outputs": [],
   "source": [
    "data['HOUSE']=data['HOUSE'].fillna(method='ffill')"
   ]
  },
  {
   "cell_type": "code",
   "execution_count": 86,
   "metadata": {
    "id": "YQvxJ9AaEWmV"
   },
   "outputs": [
    {
     "data": {
      "text/plain": [
       "count     18000.000000\n",
       "mean     495969.950500\n",
       "std      252164.430553\n",
       "min      150015.000000\n",
       "25%      265148.750000\n",
       "50%      456837.500000\n",
       "75%      711707.250000\n",
       "max      999970.000000\n",
       "Name: HOUSE, dtype: float64"
      ]
     },
     "execution_count": 86,
     "metadata": {},
     "output_type": "execute_result"
    }
   ],
   "source": [
    "data['HOUSE'].describe()"
   ]
  },
  {
   "cell_type": "code",
   "execution_count": 90,
   "metadata": {
    "id": "TNcmlLfHEWjg"
   },
   "outputs": [
    {
     "name": "stderr",
     "output_type": "stream",
     "text": [
      "C:\\Users\\User\\anaconda3\\lib\\site-packages\\seaborn\\_decorators.py:36: FutureWarning: Pass the following variable as a keyword arg: x. From version 0.12, the only valid positional argument will be `data`, and passing other arguments without an explicit keyword will result in an error or misinterpretation.\n",
      "  warnings.warn(\n"
     ]
    },
    {
     "data": {
      "image/png": "[encoded data removed]",
      "text/plain": [
       "<Figure size 432x576 with 3 Axes>"
      ]
     },
     "metadata": {
      "needs_background": "light"
     },
     "output_type": "display_data"
    }
   ],
   "source": [
    "plt.figure(figsize = (6,8))\n",
    "plt.subplot(3,1,1)\n",
    "sns.histplot(data['HOUSE'], bins = 5)\n",
    "\n",
    "plt.subplot(3,1,2)\n",
    "sns.kdeplot(data['HOUSE'])\n",
    "\n",
    "plt.subplot(3,1,3)\n",
    "sns.boxplot(data['HOUSE'])\n",
    "\n",
    "plt.tight_layout()\n",
    "plt.show()"
   ]
  },
  {
   "cell_type": "markdown",
   "metadata": {
    "id": "e0BoQmeOEWgF"
   },
   "source": [
    "집값이 0.2인 사람이 가장 많고, 그외 나머지 가격은 비율이 동일하나 비싸질수록 빈도가 작아진다. 집값에 따른 연봉과 대학 졸업 여부를 보면 좋을것같다\n",
    "졸업을 안한 사람은 아직 집이 없거나 저렴할 것이다."
   ]
  },
  {
   "cell_type": "markdown",
   "metadata": {
    "id": "Es3rqfErEb4L"
   },
   "source": [
    "### 6) feature6"
   ]
  },
  {
   "cell_type": "code",
   "execution_count": 94,
   "metadata": {},
   "outputs": [
    {
     "name": "stdout",
     "output_type": "stream",
     "text": [
      "very_unsat    7072\n",
      "very_sat      4562\n",
      "unsat         3590\n",
      "avg           1806\n",
      "sat            932\n",
      "Name: REPORTED_SATISFACTION, dtype: int64\n",
      "very_unsat    0.392889\n",
      "very_sat      0.253444\n",
      "unsat         0.199444\n",
      "avg           0.100333\n",
      "sat           0.051778\n",
      "Name: REPORTED_SATISFACTION, dtype: float64\n"
     ]
    }
   ],
   "source": [
    "print(data['REPORTED_SATISFACTION'].value_counts())\n",
    "print(data['REPORTED_SATISFACTION'].value_counts()/ len(data['REPORTED_SATISFACTION']))"
   ]
  },
  {
   "cell_type": "code",
   "execution_count": 95,
   "metadata": {},
   "outputs": [
    {
     "name": "stderr",
     "output_type": "stream",
     "text": [
      "C:\\Users\\User\\anaconda3\\lib\\site-packages\\seaborn\\_decorators.py:36: FutureWarning: Pass the following variable as a keyword arg: x. From version 0.12, the only valid positional argument will be `data`, and passing other arguments without an explicit keyword will result in an error or misinterpretation.\n",
      "  warnings.warn(\n"
     ]
    },
    {
     "data": {
      "image/png": "[encoded data removed]",
      "text/plain": [
       "<Figure size 432x288 with 1 Axes>"
      ]
     },
     "metadata": {
      "needs_background": "light"
     },
     "output_type": "display_data"
    }
   ],
   "source": [
    "sns.countplot(data['REPORTED_SATISFACTION'])\n",
    "plt.show()"
   ]
  },
  {
   "cell_type": "markdown",
   "metadata": {},
   "source": [
    "만족도 조사 결과 매우 불만족이 많다. 이 사람들은 이탈을 거의 다 했을까\n",
    "그다음은 매우 만족이 많다. 이 사람들은 이탈을 안했을까 분석해볼필요가 있다."
   ]
  },
  {
   "cell_type": "code",
   "execution_count": 92,
   "metadata": {},
   "outputs": [
    {
     "name": "stdout",
     "output_type": "stream",
     "text": [
      "1    9049\n",
      "0    8951\n",
      "Name: COLLEGE, dtype: int64\n",
      "1    0.502722\n",
      "0    0.497278\n",
      "Name: COLLEGE, dtype: float64\n"
     ]
    }
   ],
   "source": [
    "print(data['COLLEGE'].value_counts())\n",
    "print(data['COLLEGE'].value_counts()/ len(data['COLLEGE']))"
   ]
  },
  {
   "cell_type": "code",
   "execution_count": 93,
   "metadata": {
    "id": "CokPil3nLCc7"
   },
   "outputs": [
    {
     "name": "stderr",
     "output_type": "stream",
     "text": [
      "C:\\Users\\User\\anaconda3\\lib\\site-packages\\seaborn\\_decorators.py:36: FutureWarning: Pass the following variable as a keyword arg: x. From version 0.12, the only valid positional argument will be `data`, and passing other arguments without an explicit keyword will result in an error or misinterpretation.\n",
      "  warnings.warn(\n"
     ]
    },
    {
     "data": {
      "image/png": "[encoded data removed]",
      "text/plain": [
       "<Figure size 432x288 with 1 Axes>"
      ]
     },
     "metadata": {
      "needs_background": "light"
     },
     "output_type": "display_data"
    }
   ],
   "source": [
    "sns.countplot(data['COLLEGE'])\n",
    "plt.show()"
   ]
  },
  {
   "cell_type": "markdown",
   "metadata": {
    "id": "bURrEvizEYy6"
   },
   "source": [
    "졸업 여부의 비율은 거의 동일하다."
   ]
  },
  {
   "cell_type": "code",
   "execution_count": 96,
   "metadata": {},
   "outputs": [
    {
     "name": "stdout",
     "output_type": "stream",
     "text": [
      "considering                 7141\n",
      "actively_looking_into_it    4453\n",
      "no                          3644\n",
      "never_thought               1804\n",
      "perhaps                      958\n",
      "Name: CONSIDERING_CHANGE_OF_PLAN, dtype: int64\n",
      "considering                 0.396722\n",
      "actively_looking_into_it    0.247389\n",
      "no                          0.202444\n",
      "never_thought               0.100222\n",
      "perhaps                     0.053222\n",
      "Name: CONSIDERING_CHANGE_OF_PLAN, dtype: float64\n"
     ]
    }
   ],
   "source": [
    "print(data['CONSIDERING_CHANGE_OF_PLAN'].value_counts())\n",
    "print(data['CONSIDERING_CHANGE_OF_PLAN'].value_counts()/ len(data['CONSIDERING_CHANGE_OF_PLAN']))"
   ]
  },
  {
   "cell_type": "code",
   "execution_count": 97,
   "metadata": {},
   "outputs": [
    {
     "name": "stderr",
     "output_type": "stream",
     "text": [
      "C:\\Users\\User\\anaconda3\\lib\\site-packages\\seaborn\\_decorators.py:36: FutureWarning: Pass the following variable as a keyword arg: x. From version 0.12, the only valid positional argument will be `data`, and passing other arguments without an explicit keyword will result in an error or misinterpretation.\n",
      "  warnings.warn(\n"
     ]
    },
    {
     "data": {
      "image/png": "[encoded data removed]",
      "text/plain": [
       "<Figure size 432x288 with 1 Axes>"
      ]
     },
     "metadata": {
      "needs_background": "light"
     },
     "output_type": "display_data"
    }
   ],
   "source": [
    "sns.countplot(data['CONSIDERING_CHANGE_OF_PLAN'])\n",
    "plt.show()"
   ]
  },
  {
   "cell_type": "markdown",
   "metadata": {},
   "source": [
    "변동을 고려하고 있는 사람이 가장 많고, 살펴보는 사람이 그다음, 옮길 생각 없는 사람이 세번째이다. \n",
    "다들 자신의 생각대로 이탈하거나 안했을지 살펴보고, 왜 이탈하고싶어하는지도 여러 변수로 알아볼 필요가 있다"
   ]
  },
  {
   "cell_type": "markdown",
   "metadata": {
    "id": "78iry0XpLCc0"
   },
   "source": [
    "### 7) CHURN(target)"
   ]
  },
  {
   "cell_type": "code",
   "execution_count": 98,
   "metadata": {
    "id": "626cRSYjEb4R"
   },
   "outputs": [
    {
     "name": "stdout",
     "output_type": "stream",
     "text": [
      "0    9131\n",
      "1    8869\n",
      "Name: CHURN, dtype: int64\n",
      "0    0.507278\n",
      "1    0.492722\n",
      "Name: CHURN, dtype: float64\n"
     ]
    }
   ],
   "source": [
    "print(data['CHURN'].value_counts())\n",
    "print(data['CHURN'].value_counts()/ len(data['CHURN']))"
   ]
  },
  {
   "cell_type": "code",
   "execution_count": 99,
   "metadata": {
    "id": "vXTWiazJEb4R"
   },
   "outputs": [
    {
     "name": "stderr",
     "output_type": "stream",
     "text": [
      "C:\\Users\\User\\anaconda3\\lib\\site-packages\\seaborn\\_decorators.py:36: FutureWarning: Pass the following variable as a keyword arg: x. From version 0.12, the only valid positional argument will be `data`, and passing other arguments without an explicit keyword will result in an error or misinterpretation.\n",
      "  warnings.warn(\n"
     ]
    },
    {
     "data": {
      "image/png": "[encoded data removed]",
      "text/plain": [
       "<Figure size 432x288 with 1 Axes>"
      ]
     },
     "metadata": {
      "needs_background": "light"
     },
     "output_type": "display_data"
    }
   ],
   "source": [
    "sns.countplot(data['CHURN'])\n",
    "plt.show()"
   ]
  },
  {
   "cell_type": "code",
   "execution_count": null,
   "metadata": {
    "id": "_J4LqspjEb4R"
   },
   "outputs": [],
   "source": [
    "이탈 안한 사람이 더 많지만 이탈고객이랑 비슷하다.\n",
    "즉 이탈한사람이 굉장히 많다."
   ]
  },
  {
   "cell_type": "markdown",
   "metadata": {
    "id": "I_LEx3qrElFy"
   },
   "source": [
    "### 8) 추가1"
   ]
  },
  {
   "cell_type": "markdown",
   "metadata": {
    "id": "wyvZvb9mElF0"
   },
   "source": [
    "위에 같이 해놨다"
   ]
  },
  {
   "cell_type": "markdown",
   "metadata": {
    "id": "2V44ES-3ElPI"
   },
   "source": [
    "### 9) 추가2"
   ]
  },
  {
   "cell_type": "markdown",
   "metadata": {
    "id": "NJUgw3cLElPJ"
   },
   "source": [
    "위에 같이 해놨다"
   ]
  },
  {
   "cell_type": "markdown",
   "metadata": {
    "id": "JtuaNNKyEmOL"
   },
   "source": [
    "### 10) 추가3"
   ]
  },
  {
   "cell_type": "markdown",
   "metadata": {
    "id": "iFeD-vwlEmOM"
   },
   "source": [
    "위에 같이 해놨다"
   ]
  },
  {
   "cell_type": "markdown",
   "metadata": {
    "id": "ZghJJ7yLEpDA"
   },
   "source": [
    "## 3.이변량 분석 \n",
    "* 자료의 종류에 맞게 X --> Y 에 대해서 그래프(시각화)와 가설검정(수치화)를 수행하고 결과를 평가합니다.\n",
    "* 가설검정시 다음의 항목을 참조하여 수행합니다.\n",
    "    * 유의수준 : 5%\n",
    "    * 숫자 --> 숫자 : 상관분석\n",
    "    * 범주 --> 범주 : 카이제곱검정\n",
    "    * 범주 --> 숫자 : t검정, 분산분석\n",
    "    * 숫자 --> 범주 : 로지스틱 회귀모형을 통해, 회귀계수의 P.value로 검정을 수행합니다.\n"
   ]
  },
  {
   "cell_type": "code",
   "execution_count": null,
   "metadata": {
    "id": "qiWKeotjGkLp"
   },
   "outputs": [],
   "source": [
    "target = 'CHURN'"
   ]
  },
  {
   "cell_type": "markdown",
   "metadata": {
    "id": "fap08wfEMqtY"
   },
   "source": [
    "### (1) 범주형 Feature --> CHURN\n",
    "* 모든 범주형 Feature에 대해서 Y와 비교하여 차트를 그리고 수치화 하시오.  \n",
    "    ① 교차표(pd.crosstab())  \n",
    "    ② 시각화( Stacked Bar, Mosaic)  \n",
    "    ③ 가설검정(카이제곱검정)\n",
    "* 각 feature 별로 관계의 정도를 3가지로 정리해봅시다. "
   ]
  },
  {
   "cell_type": "markdown",
   "metadata": {
    "id": "Dh2UW7_S-yoq"
   },
   "source": [
    "#### 1) feature --> CHURN"
   ]
  },
  {
   "cell_type": "code",
   "execution_count": 5,
   "metadata": {
    "id": "EWXtZEr_X0ok"
   },
   "outputs": [
    {
     "data": {
      "text/html": [
       "<div>\n",
       "<style scoped>\n",
       "    .dataframe tbody tr th:only-of-type {\n",
       "        vertical-align: middle;\n",
       "    }\n",
       "\n",
       "    .dataframe tbody tr th {\n",
       "        vertical-align: top;\n",
       "    }\n",
       "\n",
       "    .dataframe thead th {\n",
       "        text-align: right;\n",
       "    }\n",
       "</style>\n",
       "<table border=\"1\" class=\"dataframe\">\n",
       "  <thead>\n",
       "    <tr style=\"text-align: right;\">\n",
       "      <th>CHURN</th>\n",
       "      <th>0</th>\n",
       "      <th>1</th>\n",
       "    </tr>\n",
       "    <tr>\n",
       "      <th>COLLEGE</th>\n",
       "      <th></th>\n",
       "      <th></th>\n",
       "    </tr>\n",
       "  </thead>\n",
       "  <tbody>\n",
       "    <tr>\n",
       "      <th>0</th>\n",
       "      <td>0.505531</td>\n",
       "      <td>0.488781</td>\n",
       "    </tr>\n",
       "    <tr>\n",
       "      <th>1</th>\n",
       "      <td>0.494469</td>\n",
       "      <td>0.511219</td>\n",
       "    </tr>\n",
       "  </tbody>\n",
       "</table>\n",
       "</div>"
      ],
      "text/plain": [
       "CHURN           0         1\n",
       "COLLEGE                    \n",
       "0        0.505531  0.488781\n",
       "1        0.494469  0.511219"
      ]
     },
     "execution_count": 5,
     "metadata": {},
     "output_type": "execute_result"
    }
   ],
   "source": [
    "pd.crosstab(data['COLLEGE'], data['CHURN'], normalize='columns')"
   ]
  },
  {
   "cell_type": "code",
   "execution_count": 7,
   "metadata": {
    "id": "T1VEUO2DFQZd"
   },
   "outputs": [
    {
     "data": {
      "image/png": "[encoded data removed]",
      "text/plain": [
       "<Figure size 432x288 with 1 Axes>"
      ]
     },
     "metadata": {
      "needs_background": "light"
     },
     "output_type": "display_data"
    }
   ],
   "source": [
    "temp = pd.crosstab(data['COLLEGE'], data['CHURN'], normalize = 'index')\n",
    "temp.plot.bar(stacked=True)\n",
    "plt.axhline(1-data['CHURN'].mean(), color = 'r')\n",
    "plt.show()"
   ]
  },
  {
   "cell_type": "code",
   "execution_count": 10,
   "metadata": {
    "id": "iRNinsgWFQGF"
   },
   "outputs": [
    {
     "data": {
      "image/png": "[encoded data removed]",
      "text/plain": [
       "<Figure size 432x288 with 3 Axes>"
      ]
     },
     "metadata": {
      "needs_background": "light"
     },
     "output_type": "display_data"
    }
   ],
   "source": [
    "mosaic(data, [ 'COLLEGE', 'CHURN'])\n",
    "plt.axhline(1- data['CHURN'].mean(), color = 'r')\n",
    "plt.show()"
   ]
  },
  {
   "cell_type": "code",
   "execution_count": 9,
   "metadata": {
    "id": "rnJwF8-dFQCg"
   },
   "outputs": [
    {
     "name": "stdout",
     "output_type": "stream",
     "text": [
      "카이제곱통계량 4.982102934693503\n",
      "p-value 0.025610833478220536\n"
     ]
    }
   ],
   "source": [
    "table = pd.crosstab(data['CHURN'], data['COLLEGE'])\n",
    "result = spst.chi2_contingency(table)\n",
    "print('카이제곱통계량', result[0])\n",
    "print('p-value', result[1])"
   ]
  },
  {
   "cell_type": "markdown",
   "metadata": {
    "id": "Ch0ZeVooFP-g"
   },
   "source": [
    "p값을 보면 0.05이하로 유의미하다.\n",
    "\n",
    "대학졸업여부와 고객 이탈 여부는 큰차이가 없으나 왜 이 변수가 있는지 다시 생각해보자\n",
    "    -고졸 직장인을 뜻하는 줄 알았으나 그냥 아직 학생신분과 졸업자로 나눈다면 수입이 다를 것이다. \n",
    "-대학 졸업 여부와 연 수입액에 차이가 있을 수 있다. "
   ]
  },
  {
   "cell_type": "markdown",
   "metadata": {
    "id": "4Xeo68yeLU98"
   },
   "source": [
    "#### 2) feature --> CHURN"
   ]
  },
  {
   "cell_type": "code",
   "execution_count": 12,
   "metadata": {
    "id": "rA7_WcWzLU-E"
   },
   "outputs": [
    {
     "data": {
      "text/html": [
       "<div>\n",
       "<style scoped>\n",
       "    .dataframe tbody tr th:only-of-type {\n",
       "        vertical-align: middle;\n",
       "    }\n",
       "\n",
       "    .dataframe tbody tr th {\n",
       "        vertical-align: top;\n",
       "    }\n",
       "\n",
       "    .dataframe thead th {\n",
       "        text-align: right;\n",
       "    }\n",
       "</style>\n",
       "<table border=\"1\" class=\"dataframe\">\n",
       "  <thead>\n",
       "    <tr style=\"text-align: right;\">\n",
       "      <th>CHURN</th>\n",
       "      <th>0</th>\n",
       "      <th>1</th>\n",
       "    </tr>\n",
       "    <tr>\n",
       "      <th>REPORTED_SATISFACTION</th>\n",
       "      <th></th>\n",
       "      <th></th>\n",
       "    </tr>\n",
       "  </thead>\n",
       "  <tbody>\n",
       "    <tr>\n",
       "      <th>avg</th>\n",
       "      <td>0.104466</td>\n",
       "      <td>0.096508</td>\n",
       "    </tr>\n",
       "    <tr>\n",
       "      <th>sat</th>\n",
       "      <td>0.053989</td>\n",
       "      <td>0.049723</td>\n",
       "    </tr>\n",
       "    <tr>\n",
       "      <th>unsat</th>\n",
       "      <td>0.196642</td>\n",
       "      <td>0.203187</td>\n",
       "    </tr>\n",
       "    <tr>\n",
       "      <th>very_sat</th>\n",
       "      <td>0.256118</td>\n",
       "      <td>0.251780</td>\n",
       "    </tr>\n",
       "    <tr>\n",
       "      <th>very_unsat</th>\n",
       "      <td>0.388785</td>\n",
       "      <td>0.398802</td>\n",
       "    </tr>\n",
       "  </tbody>\n",
       "</table>\n",
       "</div>"
      ],
      "text/plain": [
       "CHURN                         0         1\n",
       "REPORTED_SATISFACTION                    \n",
       "avg                    0.104466  0.096508\n",
       "sat                    0.053989  0.049723\n",
       "unsat                  0.196642  0.203187\n",
       "very_sat               0.256118  0.251780\n",
       "very_unsat             0.388785  0.398802"
      ]
     },
     "execution_count": 12,
     "metadata": {},
     "output_type": "execute_result"
    }
   ],
   "source": [
    "pd.crosstab(data['REPORTED_SATISFACTION'], data['CHURN'], normalize='columns')"
   ]
  },
  {
   "cell_type": "code",
   "execution_count": 13,
   "metadata": {
    "id": "3ZYBcWJ8FSNv"
   },
   "outputs": [
    {
     "data": {
      "image/png": "[encoded data removed]",
      "text/plain": [
       "<Figure size 432x288 with 1 Axes>"
      ]
     },
     "metadata": {
      "needs_background": "light"
     },
     "output_type": "display_data"
    }
   ],
   "source": [
    "temp = pd.crosstab(data['REPORTED_SATISFACTION'], data['CHURN'], normalize = 'index')\n",
    "temp.plot.bar(stacked=True)\n",
    "plt.axhline(1-data['CHURN'].mean(), color = 'r')\n",
    "plt.show()"
   ]
  },
  {
   "cell_type": "code",
   "execution_count": 14,
   "metadata": {
    "id": "H8r6fiOjFSKP"
   },
   "outputs": [
    {
     "data": {
      "image/png": "[encoded data removed]",
      "text/plain": [
       "<Figure size 432x288 with 3 Axes>"
      ]
     },
     "metadata": {
      "needs_background": "light"
     },
     "output_type": "display_data"
    }
   ],
   "source": [
    "mosaic(data, [ 'REPORTED_SATISFACTION', 'CHURN'])\n",
    "plt.axhline(1- data['CHURN'].mean(), color = 'r')\n",
    "plt.show()"
   ]
  },
  {
   "cell_type": "code",
   "execution_count": 15,
   "metadata": {
    "id": "-lZ7bHbDFSG-"
   },
   "outputs": [
    {
     "name": "stdout",
     "output_type": "stream",
     "text": [
      "카이제곱통계량 6.8411009572056445\n",
      "p-value 0.14452738878905066\n"
     ]
    }
   ],
   "source": [
    "table = pd.crosstab(data['CHURN'], data['REPORTED_SATISFACTION'])\n",
    "result = spst.chi2_contingency(table)\n",
    "print('카이제곱통계량', result[0])\n",
    "print('p-value', result[1])"
   ]
  },
  {
   "cell_type": "markdown",
   "metadata": {
    "id": "zMUj1rePFSDg"
   },
   "source": [
    "p 값은 0.1로 만족도에 따른 이탈 여부는 유의하지 않다.\n",
    "-하지만, 이럴거면 만족도 조사는 왜 하는 것인가? 영향을 미치지 않을까? \n",
    "    -변경 계획 설문과 비교해보는것이나 , 설문에 제대로 응답하지 않았을수도"
   ]
  },
  {
   "cell_type": "markdown",
   "metadata": {
    "id": "bdWZCugILZAz"
   },
   "source": [
    "#### 3) feature --> CHURN"
   ]
  },
  {
   "cell_type": "code",
   "execution_count": 18,
   "metadata": {
    "id": "H7UDK6CKLZAz"
   },
   "outputs": [
    {
     "data": {
      "text/html": [
       "<div>\n",
       "<style scoped>\n",
       "    .dataframe tbody tr th:only-of-type {\n",
       "        vertical-align: middle;\n",
       "    }\n",
       "\n",
       "    .dataframe tbody tr th {\n",
       "        vertical-align: top;\n",
       "    }\n",
       "\n",
       "    .dataframe thead th {\n",
       "        text-align: right;\n",
       "    }\n",
       "</style>\n",
       "<table border=\"1\" class=\"dataframe\">\n",
       "  <thead>\n",
       "    <tr style=\"text-align: right;\">\n",
       "      <th>CHURN</th>\n",
       "      <th>0</th>\n",
       "      <th>1</th>\n",
       "    </tr>\n",
       "    <tr>\n",
       "      <th>CONSIDERING_CHANGE_OF_PLAN</th>\n",
       "      <th></th>\n",
       "      <th></th>\n",
       "    </tr>\n",
       "  </thead>\n",
       "  <tbody>\n",
       "    <tr>\n",
       "      <th>actively_looking_into_it</th>\n",
       "      <td>0.249480</td>\n",
       "      <td>0.245236</td>\n",
       "    </tr>\n",
       "    <tr>\n",
       "      <th>considering</th>\n",
       "      <td>0.399518</td>\n",
       "      <td>0.393844</td>\n",
       "    </tr>\n",
       "    <tr>\n",
       "      <th>never_thought</th>\n",
       "      <td>0.101413</td>\n",
       "      <td>0.098997</td>\n",
       "    </tr>\n",
       "    <tr>\n",
       "      <th>no</th>\n",
       "      <td>0.199650</td>\n",
       "      <td>0.205322</td>\n",
       "    </tr>\n",
       "    <tr>\n",
       "      <th>perhaps</th>\n",
       "      <td>0.049940</td>\n",
       "      <td>0.056602</td>\n",
       "    </tr>\n",
       "  </tbody>\n",
       "</table>\n",
       "</div>"
      ],
      "text/plain": [
       "CHURN                              0         1\n",
       "CONSIDERING_CHANGE_OF_PLAN                    \n",
       "actively_looking_into_it    0.249480  0.245236\n",
       "considering                 0.399518  0.393844\n",
       "never_thought               0.101413  0.098997\n",
       "no                          0.199650  0.205322\n",
       "perhaps                     0.049940  0.056602"
      ]
     },
     "execution_count": 18,
     "metadata": {},
     "output_type": "execute_result"
    }
   ],
   "source": [
    "pd.crosstab(data['CONSIDERING_CHANGE_OF_PLAN'], data['CHURN'], normalize='columns')"
   ]
  },
  {
   "cell_type": "code",
   "execution_count": 19,
   "metadata": {
    "id": "yzB6q17JFUu2"
   },
   "outputs": [
    {
     "data": {
      "image/png": "[encoded data removed]",
      "text/plain": [
       "<Figure size 432x288 with 1 Axes>"
      ]
     },
     "metadata": {
      "needs_background": "light"
     },
     "output_type": "display_data"
    }
   ],
   "source": [
    "temp = pd.crosstab(data['CONSIDERING_CHANGE_OF_PLAN'], data['CHURN'], normalize = 'index')\n",
    "temp.plot.bar(stacked=True)\n",
    "plt.axhline(1-data['CHURN'].mean(), color = 'r')\n",
    "plt.show()"
   ]
  },
  {
   "cell_type": "code",
   "execution_count": 20,
   "metadata": {
    "id": "yruN2nAbFUhU"
   },
   "outputs": [
    {
     "data": {
      "image/png": "[encoded data removed]",
      "text/plain": [
       "<Figure size 432x288 with 3 Axes>"
      ]
     },
     "metadata": {
      "needs_background": "light"
     },
     "output_type": "display_data"
    }
   ],
   "source": [
    "mosaic(data, [ 'CONSIDERING_CHANGE_OF_PLAN', 'CHURN'])\n",
    "plt.axhline(1- data['CHURN'].mean(), color = 'r')\n",
    "plt.show()"
   ]
  },
  {
   "cell_type": "code",
   "execution_count": 21,
   "metadata": {
    "id": "a0RGyObLFUdu"
   },
   "outputs": [
    {
     "name": "stdout",
     "output_type": "stream",
     "text": [
      "카이제곱통계량 5.421434419620689\n",
      "p-value 0.2467222586679969\n"
     ]
    }
   ],
   "source": [
    "table = pd.crosstab(data['CHURN'], data['CONSIDERING_CHANGE_OF_PLAN'])\n",
    "result = spst.chi2_contingency(table)\n",
    "print('카이제곱통계량', result[0])\n",
    "print('p-value', result[1])"
   ]
  },
  {
   "cell_type": "markdown",
   "metadata": {
    "id": "vWedSkNoFUak"
   },
   "source": [
    "p 값을 보면 변경계획 설문과 유의하지 않다.\n",
    "-왜 관련이 없을까 ? 거짓말해서?\n",
    "    -생각이 없었는데 핸드폰을 새로 바꿨거나, "
   ]
  },
  {
   "cell_type": "markdown",
   "metadata": {
    "id": "6ks7Mts5ZOIO"
   },
   "source": [
    "#### 4) feature --> CHURN"
   ]
  },
  {
   "cell_type": "code",
   "execution_count": null,
   "metadata": {
    "id": "7vueK_Q2ZOIO"
   },
   "outputs": [],
   "source": [
    "pd.crosstab(data['COLLEGE'], data['CHURN'], normalize='columns')"
   ]
  },
  {
   "cell_type": "code",
   "execution_count": null,
   "metadata": {
    "id": "ImB9bLtbZOIO"
   },
   "outputs": [],
   "source": [
    "temp = pd.crosstab(data['COLLEGE'], data['CHURN'], normalize = 'index')\n",
    "temp.plot.bar(stacked=True)\n",
    "plt.axhline(1-data['CHURN'].mean(), color = 'r')\n",
    "plt.show()"
   ]
  },
  {
   "cell_type": "code",
   "execution_count": null,
   "metadata": {
    "id": "a9cd7QE4ZOIO"
   },
   "outputs": [],
   "source": []
  },
  {
   "cell_type": "code",
   "execution_count": null,
   "metadata": {
    "id": "7WEnk6KAZOIO"
   },
   "outputs": [],
   "source": []
  },
  {
   "cell_type": "code",
   "execution_count": null,
   "metadata": {
    "id": "N8r5_bWEZOIO"
   },
   "outputs": [],
   "source": []
  },
  {
   "cell_type": "markdown",
   "metadata": {
    "id": "lUsQ0iBHMqte"
   },
   "source": [
    "### (2) 숫자형 Feature --> CHURN\n",
    "\n",
    "* 숫자형 Feature에 대해서 Y와 비교하여 차트를 그리고 수치화 하시오.  \n",
    "    ① 그래프 : histogram, densityplot   \n",
    "    ② 수치화 : 로지스틱회귀"
   ]
  },
  {
   "cell_type": "markdown",
   "metadata": {
    "id": "F_Mugk3f_y3X"
   },
   "source": [
    "#### 1) feature --> CHURN\n"
   ]
  },
  {
   "cell_type": "code",
   "execution_count": 24,
   "metadata": {
    "id": "8ROLKtUueHSn"
   },
   "outputs": [
    {
     "data": {
      "image/png": "[encoded data removed]",
      "text/plain": [
       "<Figure size 432x288 with 1 Axes>"
      ]
     },
     "metadata": {
      "needs_background": "light"
     },
     "output_type": "display_data"
    }
   ],
   "source": [
    "target_mean=data['CHURN'].mean()\n",
    "\n",
    "sns.histplot(x='INCOME', data = data , hue = 'CHURN', multiple = 'fill', bins = 16)\n",
    "plt.axhline(target_mean, color = 'r')\n",
    "plt.show()"
   ]
  },
  {
   "cell_type": "code",
   "execution_count": 25,
   "metadata": {
    "id": "pRhxayOcFdXb"
   },
   "outputs": [
    {
     "data": {
      "image/png": "[encoded data removed]",
      "text/plain": [
       "<Figure size 432x288 with 1 Axes>"
      ]
     },
     "metadata": {
      "needs_background": "light"
     },
     "output_type": "display_data"
    }
   ],
   "source": [
    "sns.kdeplot(x='INCOME', data = data, hue ='CHURN', common_norm=False)\n",
    "plt.show()"
   ]
  },
  {
   "cell_type": "code",
   "execution_count": 26,
   "metadata": {
    "id": "V716mlpmFdUE"
   },
   "outputs": [
    {
     "name": "stdout",
     "output_type": "stream",
     "text": [
      "Optimization terminated successfully.\n",
      "         Current function value: 0.692683\n",
      "         Iterations 2\n",
      "INCOME    0.000044\n",
      "dtype: float64\n"
     ]
    }
   ],
   "source": [
    "temp = data.loc[data['INCOME'].notnull()]\n",
    "\n",
    "model = sm.Logit(temp['CHURN'], temp['INCOME'])\n",
    "result = model.fit()\n",
    "print(result.pvalues)"
   ]
  },
  {
   "cell_type": "markdown",
   "metadata": {
    "id": "RGQGnk8JFdQf"
   },
   "source": [
    "p값이 0.05이하로 수입과 이탈은 유의미하다.\n",
    "수입 10000달러 이후로 이탈률이 증가한다.\n",
    "-고수입자들이 주로 사용하는 사용처의 혜택이랑 맞지 않는 혜택이 있지 않을까?\n",
    "    -백화점 혜택이 없다와 같은 혜택 부족. 고수입자들은 할인보단 조금 더 나은 서비스를 원할거같다.\n",
    "-반대로 저수익자가 자주 사용하는 혜택\n",
    "    -대중교통할인, 대형 마트 할인, 등등의 할인"
   ]
  },
  {
   "cell_type": "code",
   "execution_count": null,
   "metadata": {
    "id": "8z58caznFdNU"
   },
   "outputs": [],
   "source": []
  },
  {
   "cell_type": "markdown",
   "metadata": {
    "id": "QwikcGXELsny"
   },
   "source": [
    "#### 2) feature --> CHURN\n"
   ]
  },
  {
   "cell_type": "code",
   "execution_count": 27,
   "metadata": {
    "id": "bGWLTAg9Lsny"
   },
   "outputs": [
    {
     "data": {
      "image/png": "[encoded data removed]",
      "text/plain": [
       "<Figure size 432x288 with 1 Axes>"
      ]
     },
     "metadata": {
      "needs_background": "light"
     },
     "output_type": "display_data"
    }
   ],
   "source": [
    "target_mean=data['CHURN'].mean()\n",
    "\n",
    "sns.histplot(x='OVERAGE', data = data , hue = 'CHURN', multiple = 'fill', bins = 16)\n",
    "plt.axhline(target_mean, color = 'r')\n",
    "plt.show()"
   ]
  },
  {
   "cell_type": "code",
   "execution_count": 28,
   "metadata": {
    "id": "R4crpBV9FfAM"
   },
   "outputs": [
    {
     "data": {
      "image/png": "[encoded data removed]",
      "text/plain": [
       "<Figure size 432x288 with 1 Axes>"
      ]
     },
     "metadata": {
      "needs_background": "light"
     },
     "output_type": "display_data"
    }
   ],
   "source": [
    "sns.kdeplot(x='OVERAGE', data = data, hue ='CHURN', common_norm=False)\n",
    "plt.show()"
   ]
  },
  {
   "cell_type": "code",
   "execution_count": 29,
   "metadata": {
    "id": "Wk4QkkXyFe8_"
   },
   "outputs": [
    {
     "name": "stdout",
     "output_type": "stream",
     "text": [
      "Optimization terminated successfully.\n",
      "         Current function value: 0.680553\n",
      "         Iterations 4\n",
      "OVERAGE    3.521095e-97\n",
      "dtype: float64\n"
     ]
    }
   ],
   "source": [
    "temp = data.loc[data['OVERAGE'].notnull()]\n",
    "\n",
    "model = sm.Logit(temp['CHURN'], temp['OVERAGE'])\n",
    "result = model.fit()\n",
    "print(result.pvalues)"
   ]
  },
  {
   "cell_type": "markdown",
   "metadata": {
    "id": "V-ohsvLDFe5f"
   },
   "source": [
    "초과 사용시간과 이탈률은 유의미하다.\n",
    "-특히 100분 이상 초과하면 이탈률이 평균을 크게 넘는다.\n",
    "-이를 보면 너무 많이 넘어서 더 큰 요금제를 찾아서 떠난다는 생각\n",
    "-또한 300분 초과할땐 이탈률이 잠시 평균대인것을 보아 300분 초과시 데이터 이월제가 가능한게 아닐까 생각이 든다"
   ]
  },
  {
   "cell_type": "code",
   "execution_count": null,
   "metadata": {
    "id": "Ol5A6fIwFe2L"
   },
   "outputs": [],
   "source": []
  },
  {
   "cell_type": "markdown",
   "metadata": {
    "id": "KkyjTXOqLsyK"
   },
   "source": [
    "#### 3) feature --> CHURN\n"
   ]
  },
  {
   "cell_type": "code",
   "execution_count": 31,
   "metadata": {
    "id": "ZNHDXzGALsyK"
   },
   "outputs": [
    {
     "data": {
      "image/png": "[encoded data removed]",
      "text/plain": [
       "<Figure size 432x288 with 1 Axes>"
      ]
     },
     "metadata": {
      "needs_background": "light"
     },
     "output_type": "display_data"
    }
   ],
   "source": [
    "target_mean=data['CHURN'].mean()\n",
    "\n",
    "sns.histplot(x='LEFTOVER', data = data , hue = 'CHURN', multiple = 'fill', bins = 16)\n",
    "plt.axhline(target_mean, color = 'r')\n",
    "plt.show()"
   ]
  },
  {
   "cell_type": "code",
   "execution_count": 32,
   "metadata": {
    "id": "zdX0gPMOFggG"
   },
   "outputs": [
    {
     "data": {
      "image/png": "[encoded data removed]",
      "text/plain": [
       "<Figure size 432x288 with 1 Axes>"
      ]
     },
     "metadata": {
      "needs_background": "light"
     },
     "output_type": "display_data"
    }
   ],
   "source": [
    "sns.kdeplot(x='LEFTOVER', data = data, hue ='CHURN', common_norm=False)\n",
    "plt.show()"
   ]
  },
  {
   "cell_type": "code",
   "execution_count": 33,
   "metadata": {
    "id": "Fb_Y9eIsFgc-"
   },
   "outputs": [
    {
     "name": "stdout",
     "output_type": "stream",
     "text": [
      "Optimization terminated successfully.\n",
      "         Current function value: 0.692532\n",
      "         Iterations 3\n",
      "LEFTOVER    0.000003\n",
      "dtype: float64\n"
     ]
    }
   ],
   "source": [
    "temp = data.loc[data['LEFTOVER'].notnull()]\n",
    "\n",
    "model = sm.Logit(temp['CHURN'], temp['LEFTOVER'])\n",
    "result = model.fit()\n",
    "print(result.pvalues)"
   ]
  },
  {
   "cell_type": "markdown",
   "metadata": {
    "id": "FFVmR4hXFgaM"
   },
   "source": [
    "월 사용 잔여시간과 이탈률은 유의미하다\n",
    "특히 30분 이상 잔여시간이 남을때부터 이탈률이 증가했다.\n",
    "반대로 잔여시간이 거의남지않는데 이탈률이 평균보다 높은 경우가 있다. 왜일까?\n",
    "-이를보아 요금제가 맞지 않아 이탈하는것으로 생각할 수 있다.\n",
    "    -너무 많이 남아서 줄이고싶은데 적당한 요금제가 없거나"
   ]
  },
  {
   "cell_type": "code",
   "execution_count": null,
   "metadata": {
    "id": "iosQzJv4FgXG"
   },
   "outputs": [],
   "source": []
  },
  {
   "cell_type": "markdown",
   "metadata": {
    "id": "wv6nX82-ZIG4"
   },
   "source": [
    "#### 4) feature --> CHURN\n"
   ]
  },
  {
   "cell_type": "code",
   "execution_count": 42,
   "metadata": {
    "id": "DNWTAgOAZIG5"
   },
   "outputs": [
    {
     "data": {
      "image/png": "[encoded data removed]",
      "text/plain": [
       "<Figure size 432x288 with 1 Axes>"
      ]
     },
     "metadata": {
      "needs_background": "light"
     },
     "output_type": "display_data"
    }
   ],
   "source": [
    "target_mean=data['CHURN'].mean()\n",
    "\n",
    "sns.histplot(x='HOUSE', data = data , hue = 'CHURN', multiple = 'fill', bins = 10)\n",
    "plt.axhline(target_mean, color = 'r')\n",
    "plt.show()"
   ]
  },
  {
   "cell_type": "code",
   "execution_count": 35,
   "metadata": {
    "id": "sysFFUnCZIG5"
   },
   "outputs": [
    {
     "data": {
      "image/png": "[encoded data removed]",
      "text/plain": [
       "<Figure size 432x288 with 1 Axes>"
      ]
     },
     "metadata": {
      "needs_background": "light"
     },
     "output_type": "display_data"
    }
   ],
   "source": [
    "sns.kdeplot(x='HOUSE', data = data, hue ='CHURN', common_norm=False)\n",
    "plt.show()"
   ]
  },
  {
   "cell_type": "code",
   "execution_count": 39,
   "metadata": {
    "id": "vjHOKBRAZIG5"
   },
   "outputs": [
    {
     "name": "stdout",
     "output_type": "stream",
     "text": [
      "Optimization terminated successfully.\n",
      "         Current function value: 0.687266\n",
      "         Iterations 2\n",
      "HOUSE    6.401120e-47\n",
      "dtype: float64\n"
     ]
    }
   ],
   "source": [
    "temp = data.loc[data['HOUSE'].notnull()]\n",
    "\n",
    "model = sm.Logit(temp['CHURN'], temp['HOUSE'])\n",
    "result = model.fit()\n",
    "print(result.pvalues)"
   ]
  },
  {
   "cell_type": "markdown",
   "metadata": {
    "id": "toL7DMIPZIG5"
   },
   "source": [
    "집값과 이탈률은 유의미하다.\n",
    "-그래프를 보면 극명하게 600000이후로 이탈률이 평균이하로 감소한다.\n",
    "-집값이 높을수록 집이 넓다고 가정하면, 구성원이 많다고 판단할 수 있다. \n",
    "    -만약 그 구성원은 가족 할인, 인터넷 등이 한 통신사로 묶여있을 가능성이 높다.\n",
    "        -그래서 이탈률이 낮다.\n",
    "-혹은, 집값이 높을수록 집이 부유하다는 가정하에 그냥 신경을 안쓰는 것일수도 있다.\n",
    "-집값과 수익을 같이 비교해보면 무언가 얻을 수 있을거같다."
   ]
  },
  {
   "cell_type": "markdown",
   "metadata": {
    "id": "4_SdzqpmZIG5"
   },
   "source": [
    "핸드폰 가격->이탈률"
   ]
  },
  {
   "cell_type": "code",
   "execution_count": 43,
   "metadata": {},
   "outputs": [
    {
     "data": {
      "image/png": "[encoded data removed]",
      "text/plain": [
       "<Figure size 432x288 with 1 Axes>"
      ]
     },
     "metadata": {
      "needs_background": "light"
     },
     "output_type": "display_data"
    }
   ],
   "source": [
    "target_mean=data['CHURN'].mean()\n",
    "\n",
    "sns.histplot(x='HANDSET_PRICE', data = data , hue = 'CHURN', multiple = 'fill', bins = 10)\n",
    "plt.axhline(target_mean, color = 'r')\n",
    "plt.show()"
   ]
  },
  {
   "cell_type": "code",
   "execution_count": 44,
   "metadata": {},
   "outputs": [
    {
     "data": {
      "image/png": "[encoded data removed]",
      "text/plain": [
       "<Figure size 432x288 with 1 Axes>"
      ]
     },
     "metadata": {
      "needs_background": "light"
     },
     "output_type": "display_data"
    }
   ],
   "source": [
    "sns.kdeplot(x='HANDSET_PRICE', data = data, hue ='CHURN', common_norm=False)\n",
    "plt.show()"
   ]
  },
  {
   "cell_type": "code",
   "execution_count": 45,
   "metadata": {},
   "outputs": [
    {
     "name": "stdout",
     "output_type": "stream",
     "text": [
      "Optimization terminated successfully.\n",
      "         Current function value: 0.692730\n",
      "         Iterations 3\n",
      "HANDSET_PRICE    0.000107\n",
      "dtype: float64\n"
     ]
    }
   ],
   "source": [
    "temp = data.loc[data['HANDSET_PRICE'].notnull()]\n",
    "\n",
    "model = sm.Logit(temp['CHURN'], temp['HANDSET_PRICE'])\n",
    "result = model.fit()\n",
    "print(result.pvalues)"
   ]
  },
  {
   "cell_type": "markdown",
   "metadata": {},
   "source": [
    "핸드폰가격과 이탈률은 유의미하다. 하지만 약한 관계다.\n",
    "그래프를 보면 핸드폰 가격이 450달러부터 이탈률이 증가한다.\n",
    "-핸드폰의 가격이 높을수록 최신폰이거나 유행에 민감할 수 있다고 가정한다.\n",
    "    -핸드폰을 바꾸는 경우 할인을 위해 통신사를 바꿀 수 있다. \n"
   ]
  },
  {
   "cell_type": "markdown",
   "metadata": {},
   "source": []
  },
  {
   "cell_type": "code",
   "execution_count": 48,
   "metadata": {},
   "outputs": [
    {
     "data": {
      "image/png": "[encoded data removed]",
      "text/plain": [
       "<Figure size 432x288 with 1 Axes>"
      ]
     },
     "metadata": {
      "needs_background": "light"
     },
     "output_type": "display_data"
    }
   ],
   "source": [
    "target_mean=data['CHURN'].mean()\n",
    "\n",
    "sns.histplot(x='AVERAGE_CALL_DURATION', data = data , hue = 'CHURN', multiple = 'fill', bins = 7)\n",
    "plt.axhline(target_mean, color = 'r')\n",
    "plt.show()"
   ]
  },
  {
   "cell_type": "code",
   "execution_count": 49,
   "metadata": {},
   "outputs": [
    {
     "data": {
      "image/png": "[encoded data removed]",
      "text/plain": [
       "<Figure size 432x288 with 1 Axes>"
      ]
     },
     "metadata": {
      "needs_background": "light"
     },
     "output_type": "display_data"
    }
   ],
   "source": [
    "sns.kdeplot(x='AVERAGE_CALL_DURATION', data = data, hue ='CHURN', common_norm=False)\n",
    "plt.show()"
   ]
  },
  {
   "cell_type": "code",
   "execution_count": 50,
   "metadata": {},
   "outputs": [
    {
     "name": "stdout",
     "output_type": "stream",
     "text": [
      "Optimization terminated successfully.\n",
      "         Current function value: 0.693027\n",
      "         Iterations 3\n",
      "AVERAGE_CALL_DURATION    0.03783\n",
      "dtype: float64\n"
     ]
    }
   ],
   "source": [
    "temp = data.loc[data['AVERAGE_CALL_DURATION'].notnull()]\n",
    "\n",
    "model = sm.Logit(temp['CHURN'], temp['AVERAGE_CALL_DURATION'])\n",
    "result = model.fit()\n",
    "print(result.pvalues)"
   ]
  },
  {
   "cell_type": "markdown",
   "metadata": {},
   "source": [
    "평균통화시간과 이탈률은 유의미하다. 하지만 약한 관계다.\n",
    "평균 4분에서 6분 통화하는 사람은 이탈을 안했지만 그외 시간대는 \n",
    "평균이거나 평균이상의 이탈률을 가진다.\n",
    "-통화를 거의 안해서 다른 것으로 바꾸고 싶거나, 통화를 자주해서 지금 통신사에 불만족할 확률이 높다."
   ]
  },
  {
   "cell_type": "markdown",
   "metadata": {},
   "source": []
  },
  {
   "cell_type": "markdown",
   "metadata": {
    "id": "Jd4WbbU-jqU3"
   },
   "source": [
    "## 4.관계 정리"
   ]
  },
  {
   "cell_type": "markdown",
   "metadata": {
    "id": "bKmN0rtAjto6"
   },
   "source": [
    "### 1) 강한관계의 변수"
   ]
  },
  {
   "cell_type": "code",
   "execution_count": null,
   "metadata": {
    "id": "lx6Np73PL0YS"
   },
   "outputs": [],
   "source": [
    "OVERAGE, HOUSE"
   ]
  },
  {
   "cell_type": "markdown",
   "metadata": {
    "id": "u8B765zNjwp5"
   },
   "source": [
    "### 2) 약한관계의 변수"
   ]
  },
  {
   "cell_type": "code",
   "execution_count": null,
   "metadata": {
    "id": "kg8-QylzL1kE"
   },
   "outputs": [],
   "source": [
    "COLLEGE, INCOME,  LEFTOVER, HANDSET_PRICE"
   ]
  },
  {
   "cell_type": "markdown",
   "metadata": {
    "id": "eYiQ9OUijwdq"
   },
   "source": [
    "### 3) 관계 없음"
   ]
  },
  {
   "cell_type": "code",
   "execution_count": null,
   "metadata": {
    "id": "K0o6lwH5L2Wj"
   },
   "outputs": [],
   "source": [
    "REPORTED_SATISFACTION, CONSIDERING_CHANGE_OF_PLAN -> 단면적으로 볼땐 둘다 유의하지않으나\n",
    "같이 비교해보면 영향이 있다고 생각한다."
   ]
  },
  {
   "cell_type": "markdown",
   "metadata": {
    "id": "nePF6KE6jlX6"
   },
   "source": [
    "## 5.추가 분석"
   ]
  },
  {
   "cell_type": "code",
   "execution_count": 100,
   "metadata": {
    "id": "B8E9F24bkYTn"
   },
   "outputs": [
    {
     "data": {
      "text/html": [
       "<div>\n",
       "<style scoped>\n",
       "    .dataframe tbody tr th:only-of-type {\n",
       "        vertical-align: middle;\n",
       "    }\n",
       "\n",
       "    .dataframe tbody tr th {\n",
       "        vertical-align: top;\n",
       "    }\n",
       "\n",
       "    .dataframe thead th {\n",
       "        text-align: right;\n",
       "    }\n",
       "</style>\n",
       "<table border=\"1\" class=\"dataframe\">\n",
       "  <thead>\n",
       "    <tr style=\"text-align: right;\">\n",
       "      <th></th>\n",
       "      <th>COLLEGE</th>\n",
       "      <th>INCOME</th>\n",
       "    </tr>\n",
       "  </thead>\n",
       "  <tbody>\n",
       "    <tr>\n",
       "      <th>0</th>\n",
       "      <td>0</td>\n",
       "      <td>79906.901352</td>\n",
       "    </tr>\n",
       "    <tr>\n",
       "      <th>1</th>\n",
       "      <td>1</td>\n",
       "      <td>80717.486021</td>\n",
       "    </tr>\n",
       "  </tbody>\n",
       "</table>\n",
       "</div>"
      ],
      "text/plain": [
       "   COLLEGE        INCOME\n",
       "0        0  79906.901352\n",
       "1        1  80717.486021"
      ]
     },
     "execution_count": 100,
     "metadata": {},
     "output_type": "execute_result"
    }
   ],
   "source": [
    "tmp=data.groupby(['COLLEGE'], as_index = False)[['INCOME']].mean()\n",
    "tmp"
   ]
  },
  {
   "cell_type": "markdown",
   "metadata": {},
   "source": [
    "대학졸업자의 수입이 졸업하지 않은 사람의 수입보다 조금 더 높다. 하지만 별 차이 안난다."
   ]
  },
  {
   "cell_type": "code",
   "execution_count": 107,
   "metadata": {
    "id": "DUL6jc1SL5QL"
   },
   "outputs": [
    {
     "data": {
      "text/html": [
       "<div>\n",
       "<style scoped>\n",
       "    .dataframe tbody tr th:only-of-type {\n",
       "        vertical-align: middle;\n",
       "    }\n",
       "\n",
       "    .dataframe tbody tr th {\n",
       "        vertical-align: top;\n",
       "    }\n",
       "\n",
       "    .dataframe thead th {\n",
       "        text-align: right;\n",
       "    }\n",
       "</style>\n",
       "<table border=\"1\" class=\"dataframe\">\n",
       "  <thead>\n",
       "    <tr style=\"text-align: right;\">\n",
       "      <th></th>\n",
       "      <th>Consider</th>\n",
       "      <th>Satisfy</th>\n",
       "      <th>OVERAGE</th>\n",
       "      <th>LEFTOVER</th>\n",
       "    </tr>\n",
       "  </thead>\n",
       "  <tbody>\n",
       "    <tr>\n",
       "      <th>0</th>\n",
       "      <td>no</td>\n",
       "      <td>sat</td>\n",
       "      <td>83.132151</td>\n",
       "      <td>23.710421</td>\n",
       "    </tr>\n",
       "    <tr>\n",
       "      <th>1</th>\n",
       "      <td>no</td>\n",
       "      <td>unsat</td>\n",
       "      <td>86.246477</td>\n",
       "      <td>23.233323</td>\n",
       "    </tr>\n",
       "    <tr>\n",
       "      <th>2</th>\n",
       "      <td>yes</td>\n",
       "      <td>sat</td>\n",
       "      <td>84.866417</td>\n",
       "      <td>24.402715</td>\n",
       "    </tr>\n",
       "    <tr>\n",
       "      <th>3</th>\n",
       "      <td>yes</td>\n",
       "      <td>unsat</td>\n",
       "      <td>87.567680</td>\n",
       "      <td>24.130272</td>\n",
       "    </tr>\n",
       "  </tbody>\n",
       "</table>\n",
       "</div>"
      ],
      "text/plain": [
       "  Consider Satisfy    OVERAGE   LEFTOVER\n",
       "0       no     sat  83.132151  23.710421\n",
       "1       no   unsat  86.246477  23.233323\n",
       "2      yes     sat  84.866417  24.402715\n",
       "3      yes   unsat  87.567680  24.130272"
      ]
     },
     "execution_count": 107,
     "metadata": {},
     "output_type": "execute_result"
    }
   ],
   "source": [
    "#옮길지 고려하는 사람/아닌 사람  과  만족하는 사람/안하는 사람 나눠서 잔여별/초과사용량 보기\n",
    "data['Consider'] = np.where( data['CONSIDERING_CHANGE_OF_PLAN'].isin(['never_thought','no']), 'no'  , 'yes' )\n",
    "data['Satisfy'] = np.where( data['REPORTED_SATISFACTION'].isin(['very_unsat','unsat']), 'unsat'  , 'sat' )\n",
    "data.head()\n",
    "\n",
    "\n",
    "tmp=data.groupby(['Consider','Satisfy'], as_index = False)[['OVERAGE','LEFTOVER']].mean()\n",
    "tmp\n",
    "\n"
   ]
  },
  {
   "cell_type": "markdown",
   "metadata": {
    "id": "rW-_G3TiL5HV"
   },
   "source": [
    "미세하지만 현재 불만족하는 사람은 만족하는 사람보다 사용시간 초과시간이 높았다.\n",
    "-사용시간 부족이 시간 남는것보다 만족도를 떨어뜨린다.\n",
    "옮길지 고려하는 사람이 안옮기려는 사람보다 사용 잔여 시간이 더 많았다.\n",
    "-현재 요금제만큼 필요없기때문에 이탈해서 요금을 줄이려는게 아닐까?\n"
   ]
  },
  {
   "cell_type": "code",
   "execution_count": 113,
   "metadata": {},
   "outputs": [
    {
     "data": {
      "text/html": [
       "<div>\n",
       "<style scoped>\n",
       "    .dataframe tbody tr th:only-of-type {\n",
       "        vertical-align: middle;\n",
       "    }\n",
       "\n",
       "    .dataframe tbody tr th {\n",
       "        vertical-align: top;\n",
       "    }\n",
       "\n",
       "    .dataframe thead th {\n",
       "        text-align: right;\n",
       "    }\n",
       "</style>\n",
       "<table border=\"1\" class=\"dataframe\">\n",
       "  <thead>\n",
       "    <tr style=\"text-align: right;\">\n",
       "      <th></th>\n",
       "      <th>Consider</th>\n",
       "      <th>Satisfy</th>\n",
       "      <th>CHURN</th>\n",
       "      <th>HOUSE</th>\n",
       "    </tr>\n",
       "  </thead>\n",
       "  <tbody>\n",
       "    <tr>\n",
       "      <th>0</th>\n",
       "      <td>no</td>\n",
       "      <td>sat</td>\n",
       "      <td>0</td>\n",
       "      <td>1162</td>\n",
       "    </tr>\n",
       "    <tr>\n",
       "      <th>1</th>\n",
       "      <td>no</td>\n",
       "      <td>sat</td>\n",
       "      <td>1</td>\n",
       "      <td>1093</td>\n",
       "    </tr>\n",
       "    <tr>\n",
       "      <th>2</th>\n",
       "      <td>no</td>\n",
       "      <td>unsat</td>\n",
       "      <td>0</td>\n",
       "      <td>1587</td>\n",
       "    </tr>\n",
       "    <tr>\n",
       "      <th>3</th>\n",
       "      <td>no</td>\n",
       "      <td>unsat</td>\n",
       "      <td>1</td>\n",
       "      <td>1606</td>\n",
       "    </tr>\n",
       "    <tr>\n",
       "      <th>4</th>\n",
       "      <td>yes</td>\n",
       "      <td>sat</td>\n",
       "      <td>0</td>\n",
       "      <td>2634</td>\n",
       "    </tr>\n",
       "    <tr>\n",
       "      <th>5</th>\n",
       "      <td>yes</td>\n",
       "      <td>sat</td>\n",
       "      <td>1</td>\n",
       "      <td>2449</td>\n",
       "    </tr>\n",
       "    <tr>\n",
       "      <th>6</th>\n",
       "      <td>yes</td>\n",
       "      <td>unsat</td>\n",
       "      <td>0</td>\n",
       "      <td>3748</td>\n",
       "    </tr>\n",
       "    <tr>\n",
       "      <th>7</th>\n",
       "      <td>yes</td>\n",
       "      <td>unsat</td>\n",
       "      <td>1</td>\n",
       "      <td>3721</td>\n",
       "    </tr>\n",
       "  </tbody>\n",
       "</table>\n",
       "</div>"
      ],
      "text/plain": [
       "  Consider Satisfy  CHURN  HOUSE\n",
       "0       no     sat      0   1162\n",
       "1       no     sat      1   1093\n",
       "2       no   unsat      0   1587\n",
       "3       no   unsat      1   1606\n",
       "4      yes     sat      0   2634\n",
       "5      yes     sat      1   2449\n",
       "6      yes   unsat      0   3748\n",
       "7      yes   unsat      1   3721"
      ]
     },
     "execution_count": 113,
     "metadata": {},
     "output_type": "execute_result"
    }
   ],
   "source": [
    "tmp=data.groupby(['Consider','Satisfy','CHURN'], as_index = False)['HOUSE'].count()\n",
    "tmp"
   ]
  },
  {
   "cell_type": "markdown",
   "metadata": {},
   "source": [
    "옮길지 고려/만족/ 이탈한 사람의 경우의 수에 따른 갯수를 측정해보고자 그룹화했다.\n",
    "1. 옮길지 고려한 사람이 안갈거라는 사람보다 이탈한 사람이 훨씬 많다.\n",
    "2. 불만족하는 사람이 만족보다 이탈하는 사람이 많다.\n",
    "3. 옮길지 고려하고, 만족하는 사람보다 옮길지 고려 안하고, 불만족하는 사람의 이탈수가 낮다. 즉 옮길지 고려하는게 만족도보다 이탈률에 더 많은 영향을 미친다."
   ]
  },
  {
   "cell_type": "code",
   "execution_count": 124,
   "metadata": {},
   "outputs": [
    {
     "data": {
      "image/png": "[encoded data removed]",
      "text/plain": [
       "<Figure size 432x288 with 1 Axes>"
      ]
     },
     "metadata": {
      "needs_background": "light"
     },
     "output_type": "display_data"
    }
   ],
   "source": [
    "sns.histplot(x='AVERAGE_CALL_DURATION', data = data, hue = 'CONSIDERING_CHANGE_OF_PLAN', multiple = 'fill', bins = 10)\n",
    "plt.show()"
   ]
  },
  {
   "cell_type": "markdown",
   "metadata": {},
   "source": [
    "평균 사용시간에 따라 옮길지 고려하는 차이가 있을것이라 예상했지만, 별 차이 없었다.\n",
    "하지만 평균사용시간이 10~14분일때 고려중이거나 아마도 옮길것이다 답한 사람의 비율이 좀 더 큰것을 관찰했다."
   ]
  },
  {
   "cell_type": "markdown",
   "metadata": {},
   "source": [
    "후기: 분명 오전에 이탈률 분석할때만 해도 그래프에 특징이나 이 부분이 이상하다 하는 점이 잘 보였는데 오후에 데이터 분석하니 큰 관계를 찾는것이 어려웠다. 데이터를 여러 관점으로 쪼개보는 연습을 더 많이 해야할거같다."
   ]
  }
 ],
 "metadata": {
  "colab": {
   "collapsed_sections": [
    "bdWZCugILZAz",
    "6ks7Mts5ZOIO",
    "KkyjTXOqLsyK",
    "wv6nX82-ZIG4"
   ],
   "name": "과제2. Mobile 고객 이탈 분석.ipynb",
   "provenance": []
  },
  "kernelspec": {
   "display_name": "Python 3",
   "language": "python",
   "name": "python3"
  },
  "language_info": {
   "codemirror_mode": {
    "name": "ipython",
    "version": 3
   },
   "file_extension": ".py",
   "mimetype": "text/x-python",
   "name": "python",
   "nbconvert_exporter": "python",
   "pygments_lexer": "ipython3",
   "version": "3.8.8"
  }
 },
 "nbformat": 4,
 "nbformat_minor": 1
}
